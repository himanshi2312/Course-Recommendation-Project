{
 "cells": [
  {
   "cell_type": "code",
   "execution_count": 1,
   "id": "a61ffa84-88f1-464a-a2d4-cc5849bb6e79",
   "metadata": {},
   "outputs": [
    {
     "name": "stdout",
     "output_type": "stream",
     "text": [
      "Requirement already satisfied: mysql-connector-python in c:\\users\\hp\\appdata\\local\\programs\\python\\python311\\lib\\site-packages (8.1.0)\n",
      "Requirement already satisfied: protobuf<=4.21.12,>=4.21.1 in c:\\users\\hp\\appdata\\local\\programs\\python\\python311\\lib\\site-packages (from mysql-connector-python) (4.21.12)\n",
      "Note: you may need to restart the kernel to use updated packages.\n"
     ]
    }
   ],
   "source": [
    "pip install mysql-connector-python"
   ]
  },
  {
   "cell_type": "code",
   "execution_count": 2,
   "id": "f2932a03-bc45-4e57-9418-545fd947aad2",
   "metadata": {},
   "outputs": [
    {
     "name": "stdout",
     "output_type": "stream",
     "text": [
      "Requirement already satisfied: sqlalchemy in c:\\users\\hp\\appdata\\local\\programs\\python\\python311\\lib\\site-packages (2.0.20)\n",
      "Requirement already satisfied: typing-extensions>=4.2.0 in c:\\users\\hp\\appdata\\local\\programs\\python\\python311\\lib\\site-packages (from sqlalchemy) (4.7.1)\n",
      "Requirement already satisfied: greenlet!=0.4.17 in c:\\users\\hp\\appdata\\local\\programs\\python\\python311\\lib\\site-packages (from sqlalchemy) (2.0.2)\n",
      "Note: you may need to restart the kernel to use updated packages.\n"
     ]
    }
   ],
   "source": [
    "pip install sqlalchemy"
   ]
  },
  {
   "cell_type": "code",
   "execution_count": 3,
   "id": "4975d397",
   "metadata": {},
   "outputs": [],
   "source": [
    "import mysql.connector\n",
    "from mysql.connector import Error\n",
    "from sqlalchemy import create_engine\n",
    "import pandas as pd\n",
    "import random\n",
    "from string import ascii_letters\n",
    "import numpy as np"
   ]
  },
  {
   "cell_type": "code",
   "execution_count": 4,
   "id": "45897c34",
   "metadata": {},
   "outputs": [
    {
     "data": {
      "text/plain": [
       "'2.0.20'"
      ]
     },
     "execution_count": 4,
     "metadata": {},
     "output_type": "execute_result"
    }
   ],
   "source": [
    "import sqlalchemy\n",
    "sqlalchemy.__version__"
   ]
  },
  {
   "cell_type": "code",
   "execution_count": 5,
   "id": "12b7bbb8",
   "metadata": {},
   "outputs": [],
   "source": [
    "# Function to extract table to a pandas DataFrame\n",
    "def extract_table_to_pandas(tablename, db_engine):\n",
    "    query = \"SELECT * FROM {}\".format(tablename)\n",
    "    return pd.read_sql(query, db_engine)\n",
    "\n",
    "db_engine = create_engine('mysql+mysqlconnector://{0}:{1}@{2}/{3}'.\n",
    "                                                   format('root', '14842151d', \n",
    "                                                          'localhost', 'elearning'))"
   ]
  },
  {
   "cell_type": "code",
   "execution_count": 6,
   "id": "81c4660e",
   "metadata": {},
   "outputs": [],
   "source": [
    "def print_user_comparison(user1, user2, user3):\n",
    "    print(\"Course id overlap between users:\")\n",
    "    print(\"================================\")\n",
    "    print(\"User 1 and User 2 overlap: {}\".format(\n",
    "    set(user1.course_id) & set(user2.course_id)\n",
    "    ))\n",
    "    print(\"User 1 and User 3 overlap: {}\".format(\n",
    "    set(user1.course_id) & set(user3.course_id)\n",
    "    ))\n",
    "    print(\"User 2 and User 3 overlap: {}\".format(\n",
    "    set(user2.course_id) & set(user3.course_id)\n",
    "    ))"
   ]
  },
  {
   "cell_type": "code",
   "execution_count": 7,
   "id": "10911799",
   "metadata": {},
   "outputs": [
    {
     "name": "stdout",
     "output_type": "stream",
     "text": [
      "Course id overlap between users:\n",
      "================================\n",
      "User 1 and User 2 overlap: {32, 96, 36, 6, 7, 44, 95}\n",
      "User 1 and User 3 overlap: set()\n",
      "User 2 and User 3 overlap: set()\n"
     ]
    }
   ],
   "source": [
    "# Get user with id 4387\n",
    "user1 = pd.read_sql(\"SELECT * FROM rating where user_id=4387\", db_engine)\n",
    "\n",
    "# Get user with id 18163\n",
    "user2 = pd.read_sql(\"SELECT * FROM rating where user_id=18163\", db_engine)\n",
    "\n",
    "# Get user with id 8770\n",
    "user3 = pd.read_sql(\"SELECT * FROM rating where user_id=8770\", db_engine)\n",
    "\n",
    "# Use the helper function to compare the 3 users\n",
    "print_user_comparison(user1, user2, user3)"
   ]
  },
  {
   "cell_type": "code",
   "execution_count": 8,
   "id": "25063822",
   "metadata": {},
   "outputs": [],
   "source": [
    "def extract_rating_data(db_engine):\n",
    "    return pd.read_sql(\"SELECT * FROM rating\", db_engine)\n",
    "\n",
    "def extract_course_data(db_engine):\n",
    "    return pd.read_sql(\"SELECT * FROM courses\", db_engine)"
   ]
  },
  {
   "cell_type": "code",
   "execution_count": 9,
   "id": "f125e133",
   "metadata": {},
   "outputs": [],
   "source": [
    "ratings = extract_rating_data(db_engine)\n",
    "\n",
    "course_data = extract_course_data(db_engine)"
   ]
  },
  {
   "cell_type": "code",
   "execution_count": 10,
   "id": "507c5484",
   "metadata": {},
   "outputs": [
    {
     "data": {
      "text/html": [
       "<div>\n",
       "<style scoped>\n",
       "    .dataframe tbody tr th:only-of-type {\n",
       "        vertical-align: middle;\n",
       "    }\n",
       "\n",
       "    .dataframe tbody tr th {\n",
       "        vertical-align: top;\n",
       "    }\n",
       "\n",
       "    .dataframe thead th {\n",
       "        text-align: right;\n",
       "    }\n",
       "</style>\n",
       "<table border=\"1\" class=\"dataframe\">\n",
       "  <thead>\n",
       "    <tr style=\"text-align: right;\">\n",
       "      <th></th>\n",
       "      <th>user_id</th>\n",
       "      <th>course_id</th>\n",
       "      <th>rating</th>\n",
       "    </tr>\n",
       "  </thead>\n",
       "  <tbody>\n",
       "    <tr>\n",
       "      <th>0</th>\n",
       "      <td>1</td>\n",
       "      <td>6</td>\n",
       "      <td>4</td>\n",
       "    </tr>\n",
       "    <tr>\n",
       "      <th>1</th>\n",
       "      <td>1</td>\n",
       "      <td>36</td>\n",
       "      <td>5</td>\n",
       "    </tr>\n",
       "    <tr>\n",
       "      <th>2</th>\n",
       "      <td>1</td>\n",
       "      <td>37</td>\n",
       "      <td>5</td>\n",
       "    </tr>\n",
       "    <tr>\n",
       "      <th>3</th>\n",
       "      <td>1</td>\n",
       "      <td>45</td>\n",
       "      <td>5</td>\n",
       "    </tr>\n",
       "    <tr>\n",
       "      <th>4</th>\n",
       "      <td>1</td>\n",
       "      <td>50</td>\n",
       "      <td>5</td>\n",
       "    </tr>\n",
       "  </tbody>\n",
       "</table>\n",
       "</div>"
      ],
      "text/plain": [
       "   user_id  course_id  rating\n",
       "0        1          6       4\n",
       "1        1         36       5\n",
       "2        1         37       5\n",
       "3        1         45       5\n",
       "4        1         50       5"
      ]
     },
     "execution_count": 10,
     "metadata": {},
     "output_type": "execute_result"
    }
   ],
   "source": [
    "ratings.head()"
   ]
  },
  {
   "cell_type": "code",
   "execution_count": 11,
   "id": "94ef5087",
   "metadata": {},
   "outputs": [
    {
     "data": {
      "text/html": [
       "<div>\n",
       "<style scoped>\n",
       "    .dataframe tbody tr th:only-of-type {\n",
       "        vertical-align: middle;\n",
       "    }\n",
       "\n",
       "    .dataframe tbody tr th {\n",
       "        vertical-align: top;\n",
       "    }\n",
       "\n",
       "    .dataframe thead th {\n",
       "        text-align: right;\n",
       "    }\n",
       "</style>\n",
       "<table border=\"1\" class=\"dataframe\">\n",
       "  <thead>\n",
       "    <tr style=\"text-align: right;\">\n",
       "      <th></th>\n",
       "      <th>course_id</th>\n",
       "      <th>title</th>\n",
       "      <th>description</th>\n",
       "      <th>programming_language</th>\n",
       "    </tr>\n",
       "  </thead>\n",
       "  <tbody>\n",
       "    <tr>\n",
       "      <th>0</th>\n",
       "      <td>1</td>\n",
       "      <td>Machine Learning with Apache Spark</td>\n",
       "      <td>Spark is a powerful, general purpose tool for ...</td>\n",
       "      <td>python</td>\n",
       "    </tr>\n",
       "    <tr>\n",
       "      <th>1</th>\n",
       "      <td>2</td>\n",
       "      <td>Financial Analytics in Spreadsheets</td>\n",
       "      <td>Monitoring the evolution of traded assets is k...</td>\n",
       "      <td>spreadsheets</td>\n",
       "    </tr>\n",
       "    <tr>\n",
       "      <th>2</th>\n",
       "      <td>3</td>\n",
       "      <td>Intermediate R</td>\n",
       "      <td>The intermediate R course is the logical next ...</td>\n",
       "      <td>r</td>\n",
       "    </tr>\n",
       "    <tr>\n",
       "      <th>3</th>\n",
       "      <td>4</td>\n",
       "      <td>Data Visualization with ggplot2 (Part 2)</td>\n",
       "      <td>This ggplot2 tutorial builds on your knowledge...</td>\n",
       "      <td>r</td>\n",
       "    </tr>\n",
       "    <tr>\n",
       "      <th>4</th>\n",
       "      <td>5</td>\n",
       "      <td>Fraud Detection in R</td>\n",
       "      <td>The Association of Certified Fraud Examiners e...</td>\n",
       "      <td>r</td>\n",
       "    </tr>\n",
       "  </tbody>\n",
       "</table>\n",
       "</div>"
      ],
      "text/plain": [
       "   course_id                                     title  \\\n",
       "0          1        Machine Learning with Apache Spark   \n",
       "1          2       Financial Analytics in Spreadsheets   \n",
       "2          3                            Intermediate R   \n",
       "3          4  Data Visualization with ggplot2 (Part 2)   \n",
       "4          5                      Fraud Detection in R   \n",
       "\n",
       "                                         description programming_language  \n",
       "0  Spark is a powerful, general purpose tool for ...               python  \n",
       "1  Monitoring the evolution of traded assets is k...         spreadsheets  \n",
       "2  The intermediate R course is the logical next ...                    r  \n",
       "3  This ggplot2 tutorial builds on your knowledge...                    r  \n",
       "4  The Association of Certified Fraud Examiners e...                    r  "
      ]
     },
     "execution_count": 11,
     "metadata": {},
     "output_type": "execute_result"
    }
   ],
   "source": [
    "course_data.head()"
   ]
  },
  {
   "cell_type": "code",
   "execution_count": 12,
   "id": "4f49069f",
   "metadata": {},
   "outputs": [
    {
     "data": {
      "text/plain": [
       "38174"
      ]
     },
     "execution_count": 12,
     "metadata": {},
     "output_type": "execute_result"
    }
   ],
   "source": [
    "ratings.user_id.nunique()"
   ]
  },
  {
   "cell_type": "code",
   "execution_count": 13,
   "id": "acb2d9e6",
   "metadata": {},
   "outputs": [
    {
     "data": {
      "text/plain": [
       "(100, 4)"
      ]
     },
     "execution_count": 13,
     "metadata": {},
     "output_type": "execute_result"
    }
   ],
   "source": [
    "course_data.shape"
   ]
  },
  {
   "cell_type": "code",
   "execution_count": 14,
   "id": "5b244911",
   "metadata": {},
   "outputs": [
    {
     "name": "stdout",
     "output_type": "stream",
     "text": [
      "course_id               0\n",
      "title                   0\n",
      "description             0\n",
      "programming_language    3\n",
      "dtype: int64\n"
     ]
    }
   ],
   "source": [
    "# Print out the number of missing values per column\n",
    "print(course_data.isnull().sum())"
   ]
  },
  {
   "cell_type": "code",
   "execution_count": 15,
   "id": "de3e117a",
   "metadata": {},
   "outputs": [
    {
     "name": "stdout",
     "output_type": "stream",
     "text": [
      "course_id               0\n",
      "title                   0\n",
      "description             0\n",
      "programming_language    0\n",
      "dtype: int64\n"
     ]
    }
   ],
   "source": [
    "# The transformation should fill in the missing values\n",
    "def transform_fill_programming_language(course_data):\n",
    "    imputed = course_data.fillna({\"programming_language\": \"R\"})\n",
    "    return imputed\n",
    "\n",
    "transformed = transform_fill_programming_language(course_data)\n",
    "\n",
    "# Print out the number of missing values per column of transformed\n",
    "print(transformed.isnull().sum())"
   ]
  },
  {
   "cell_type": "code",
   "execution_count": 16,
   "id": "cd188121",
   "metadata": {},
   "outputs": [],
   "source": [
    "# transformation function\n",
    "def transform_avg_rating(rating_data):\n",
    "    # Group by course_id and extract average rating per course\n",
    "    avg_rating = rating_data.groupby('course_id').rating.mean()\n",
    "    # Return sorted average ratings per course\n",
    "    sort_rating = avg_rating.sort_values(ascending=False).reset_index()\n",
    "    return sort_rating"
   ]
  },
  {
   "cell_type": "code",
   "execution_count": 17,
   "id": "0ffa37cd",
   "metadata": {},
   "outputs": [
    {
     "name": "stdout",
     "output_type": "stream",
     "text": [
      "    course_id    rating\n",
      "0          46  4.800000\n",
      "1          23  4.800000\n",
      "2          96  4.692765\n",
      "3          56  4.661765\n",
      "4          24  4.653061\n",
      "..        ...       ...\n",
      "94         54  4.238095\n",
      "95         92  4.222222\n",
      "96         29  4.208333\n",
      "97         17  4.147059\n",
      "98         42  4.107570\n",
      "\n",
      "[99 rows x 2 columns]\n"
     ]
    }
   ],
   "source": [
    "# Use transform_avg_rating on the extracted data and print results\n",
    "avg_course_ratings = transform_avg_rating(ratings)\n",
    "print(avg_course_ratings) "
   ]
  },
  {
   "cell_type": "code",
   "execution_count": 18,
   "id": "7827419e",
   "metadata": {},
   "outputs": [],
   "source": [
    " def get_courses_to_recommend(ratings, course_data):\n",
    "    user_list = ratings.user_id.unique()\n",
    "\n",
    "    course_set = set(course_data.course_id.unique())\n",
    "\n",
    "    non_enrolled_users = []\n",
    "\n",
    "    for user in user_list:\n",
    "        rated_course_set = set(ratings[ratings.user_id == user].course_id.unique())\n",
    "        non_enrolled_courses = course_set - rated_course_set\n",
    "        non_enrolled_users = non_enrolled_users + [(user, cid) for cid in non_enrolled_courses]\n",
    "        \n",
    "    non_enrolled_courses_df = pd.DataFrame(non_enrolled_users, columns = ['user_id', 'course_id'])\n",
    "    return non_enrolled_courses_df\n",
    "\n",
    " courses_to_recommend = get_courses_to_recommend(ratings, course_data)\n",
    " courses_to_recommend.to_csv('courses_to_recommend.csv', index = False)\n",
    " courses_to_recommend.sample(n=500).to_csv('courses_to_recommend_small.csv', index = False)"
   ]
  },
  {
   "cell_type": "code",
   "execution_count": 19,
   "id": "91919b8f",
   "metadata": {},
   "outputs": [
    {
     "data": {
      "text/plain": [
       "(100, 4)"
      ]
     },
     "execution_count": 19,
     "metadata": {},
     "output_type": "execute_result"
    }
   ],
   "source": [
    "course_data.shape"
   ]
  },
  {
   "cell_type": "code",
   "execution_count": 20,
   "id": "84ce2b08",
   "metadata": {},
   "outputs": [],
   "source": [
    "temp = pd.read_csv('courses_to_recommend.csv')\n",
    "temp.sample(n=2000).to_csv('courses_to_recommend_small.csv', index = False)"
   ]
  },
  {
   "cell_type": "code",
   "execution_count": 21,
   "id": "dbaf824c",
   "metadata": {},
   "outputs": [
    {
     "data": {
      "text/plain": [
       "(3758228, 2)"
      ]
     },
     "execution_count": 21,
     "metadata": {},
     "output_type": "execute_result"
    }
   ],
   "source": [
    "temp.shape"
   ]
  },
  {
   "cell_type": "code",
   "execution_count": 22,
   "id": "caa290ba",
   "metadata": {},
   "outputs": [
    {
     "data": {
      "text/html": [
       "<div>\n",
       "<style scoped>\n",
       "    .dataframe tbody tr th:only-of-type {\n",
       "        vertical-align: middle;\n",
       "    }\n",
       "\n",
       "    .dataframe tbody tr th {\n",
       "        vertical-align: top;\n",
       "    }\n",
       "\n",
       "    .dataframe thead th {\n",
       "        text-align: right;\n",
       "    }\n",
       "</style>\n",
       "<table border=\"1\" class=\"dataframe\">\n",
       "  <thead>\n",
       "    <tr style=\"text-align: right;\">\n",
       "      <th></th>\n",
       "      <th>user_id</th>\n",
       "      <th>course_id</th>\n",
       "    </tr>\n",
       "  </thead>\n",
       "  <tbody>\n",
       "    <tr>\n",
       "      <th>0</th>\n",
       "      <td>13863</td>\n",
       "      <td>27</td>\n",
       "    </tr>\n",
       "    <tr>\n",
       "      <th>1</th>\n",
       "      <td>10960</td>\n",
       "      <td>7</td>\n",
       "    </tr>\n",
       "    <tr>\n",
       "      <th>2</th>\n",
       "      <td>25775</td>\n",
       "      <td>82</td>\n",
       "    </tr>\n",
       "    <tr>\n",
       "      <th>3</th>\n",
       "      <td>2684</td>\n",
       "      <td>9</td>\n",
       "    </tr>\n",
       "    <tr>\n",
       "      <th>4</th>\n",
       "      <td>14582</td>\n",
       "      <td>67</td>\n",
       "    </tr>\n",
       "  </tbody>\n",
       "</table>\n",
       "</div>"
      ],
      "text/plain": [
       "   user_id  course_id\n",
       "0    13863         27\n",
       "1    10960          7\n",
       "2    25775         82\n",
       "3     2684          9\n",
       "4    14582         67"
      ]
     },
     "execution_count": 22,
     "metadata": {},
     "output_type": "execute_result"
    }
   ],
   "source": [
    "courses_to_recommend = pd.read_csv('courses_to_recommend_small.csv')\n",
    "\n",
    "courses_to_recommend.head()"
   ]
  },
  {
   "cell_type": "code",
   "execution_count": 23,
   "id": "cbec030f",
   "metadata": {},
   "outputs": [
    {
     "data": {
      "text/html": [
       "<div>\n",
       "<style scoped>\n",
       "    .dataframe tbody tr th:only-of-type {\n",
       "        vertical-align: middle;\n",
       "    }\n",
       "\n",
       "    .dataframe tbody tr th {\n",
       "        vertical-align: top;\n",
       "    }\n",
       "\n",
       "    .dataframe thead th {\n",
       "        text-align: right;\n",
       "    }\n",
       "</style>\n",
       "<table border=\"1\" class=\"dataframe\">\n",
       "  <thead>\n",
       "    <tr style=\"text-align: right;\">\n",
       "      <th></th>\n",
       "      <th>course_id</th>\n",
       "    </tr>\n",
       "    <tr>\n",
       "      <th>user_id</th>\n",
       "      <th></th>\n",
       "    </tr>\n",
       "  </thead>\n",
       "  <tbody>\n",
       "    <tr>\n",
       "      <th>9</th>\n",
       "      <td>1</td>\n",
       "    </tr>\n",
       "    <tr>\n",
       "      <th>25</th>\n",
       "      <td>1</td>\n",
       "    </tr>\n",
       "    <tr>\n",
       "      <th>36</th>\n",
       "      <td>1</td>\n",
       "    </tr>\n",
       "    <tr>\n",
       "      <th>69</th>\n",
       "      <td>1</td>\n",
       "    </tr>\n",
       "    <tr>\n",
       "      <th>100</th>\n",
       "      <td>1</td>\n",
       "    </tr>\n",
       "    <tr>\n",
       "      <th>...</th>\n",
       "      <td>...</td>\n",
       "    </tr>\n",
       "    <tr>\n",
       "      <th>38098</th>\n",
       "      <td>1</td>\n",
       "    </tr>\n",
       "    <tr>\n",
       "      <th>38111</th>\n",
       "      <td>1</td>\n",
       "    </tr>\n",
       "    <tr>\n",
       "      <th>38133</th>\n",
       "      <td>1</td>\n",
       "    </tr>\n",
       "    <tr>\n",
       "      <th>38134</th>\n",
       "      <td>1</td>\n",
       "    </tr>\n",
       "    <tr>\n",
       "      <th>38163</th>\n",
       "      <td>1</td>\n",
       "    </tr>\n",
       "  </tbody>\n",
       "</table>\n",
       "<p>1942 rows × 1 columns</p>\n",
       "</div>"
      ],
      "text/plain": [
       "         course_id\n",
       "user_id           \n",
       "9                1\n",
       "25               1\n",
       "36               1\n",
       "69               1\n",
       "100              1\n",
       "...            ...\n",
       "38098            1\n",
       "38111            1\n",
       "38133            1\n",
       "38134            1\n",
       "38163            1\n",
       "\n",
       "[1942 rows x 1 columns]"
      ]
     },
     "execution_count": 23,
     "metadata": {},
     "output_type": "execute_result"
    }
   ],
   "source": [
    "courses_to_recommend.groupby('user_id').count()"
   ]
  },
  {
   "cell_type": "code",
   "execution_count": 24,
   "id": "ff67fcb6",
   "metadata": {},
   "outputs": [],
   "source": [
    "# Complete the transformation function\n",
    "def transform_recommendations(avg_course_ratings, courses_to_recommend):\n",
    "    # Merge both DataFrames\n",
    "    merged = courses_to_recommend.merge(avg_course_ratings) \n",
    "    \n",
    "    # Sort values by rating and group by user_id\n",
    "    grouped = merged.sort_values(\"rating\", ascending=False).groupby(\"user_id\")\n",
    "    \n",
    "    # Produce the top 3 values and sort by user_id\n",
    "    recommendations = grouped.head(5).sort_values(\"user_id\").reset_index()\n",
    "    \n",
    "    final_recommendations = recommendations[[\"user_id\", \"course_id\",\"rating\"]]\n",
    "    \n",
    "    # Return final recommendations\n",
    "    return final_recommendations\n",
    "\n",
    "\n",
    "# Use the function with the predefined DataFrame objects\n",
    "recommendations = transform_recommendations(avg_course_ratings, courses_to_recommend)"
   ]
  },
  {
   "cell_type": "code",
   "execution_count": 25,
   "id": "387d264a",
   "metadata": {},
   "outputs": [],
   "source": [
    " def get_courses_to_recommend(programming_languages, course_data):\n",
    "    df = pd.DataFrame(data=list(range(len(course_data))), columns=[\"id\"])\n",
    "    Levels = np.random.choice(['Beginner', 'Intermediate', 'Advanced'], size=len(df))\n",
    "    df['Levels'] = Levels\n",
    "    \n",
    "    courses_to_recommend.to_csv('courses_to_recommend.csv', index = False)\n",
    "    courses_to_recommend.sample(n=500).to_csv('courses_to_recommend_small.csv', index = False)\n",
    "    courses_to_recommend = get_courses_to_recommend(programming_languages, course_data)"
   ]
  },
  {
   "cell_type": "code",
   "execution_count": 26,
   "id": "48810291",
   "metadata": {},
   "outputs": [
    {
     "data": {
      "text/html": [
       "<div>\n",
       "<style scoped>\n",
       "    .dataframe tbody tr th:only-of-type {\n",
       "        vertical-align: middle;\n",
       "    }\n",
       "\n",
       "    .dataframe tbody tr th {\n",
       "        vertical-align: top;\n",
       "    }\n",
       "\n",
       "    .dataframe thead th {\n",
       "        text-align: right;\n",
       "    }\n",
       "</style>\n",
       "<table border=\"1\" class=\"dataframe\">\n",
       "  <thead>\n",
       "    <tr style=\"text-align: right;\">\n",
       "      <th></th>\n",
       "      <th>user_id</th>\n",
       "      <th>course_id</th>\n",
       "      <th>rating</th>\n",
       "    </tr>\n",
       "  </thead>\n",
       "  <tbody>\n",
       "    <tr>\n",
       "      <th>0</th>\n",
       "      <td>9</td>\n",
       "      <td>66</td>\n",
       "      <td>4.540984</td>\n",
       "    </tr>\n",
       "    <tr>\n",
       "      <th>1</th>\n",
       "      <td>25</td>\n",
       "      <td>31</td>\n",
       "      <td>4.610209</td>\n",
       "    </tr>\n",
       "    <tr>\n",
       "      <th>2</th>\n",
       "      <td>36</td>\n",
       "      <td>94</td>\n",
       "      <td>4.529412</td>\n",
       "    </tr>\n",
       "    <tr>\n",
       "      <th>3</th>\n",
       "      <td>69</td>\n",
       "      <td>59</td>\n",
       "      <td>4.535211</td>\n",
       "    </tr>\n",
       "    <tr>\n",
       "      <th>4</th>\n",
       "      <td>100</td>\n",
       "      <td>28</td>\n",
       "      <td>4.578947</td>\n",
       "    </tr>\n",
       "  </tbody>\n",
       "</table>\n",
       "</div>"
      ],
      "text/plain": [
       "   user_id  course_id    rating\n",
       "0        9         66  4.540984\n",
       "1       25         31  4.610209\n",
       "2       36         94  4.529412\n",
       "3       69         59  4.535211\n",
       "4      100         28  4.578947"
      ]
     },
     "execution_count": 26,
     "metadata": {},
     "output_type": "execute_result"
    }
   ],
   "source": [
    "recommendations.head()"
   ]
  },
  {
   "cell_type": "code",
   "execution_count": 27,
   "id": "adc8bb3f",
   "metadata": {},
   "outputs": [
    {
     "data": {
      "text/html": [
       "<div>\n",
       "<style scoped>\n",
       "    .dataframe tbody tr th:only-of-type {\n",
       "        vertical-align: middle;\n",
       "    }\n",
       "\n",
       "    .dataframe tbody tr th {\n",
       "        vertical-align: top;\n",
       "    }\n",
       "\n",
       "    .dataframe thead th {\n",
       "        text-align: right;\n",
       "    }\n",
       "</style>\n",
       "<table border=\"1\" class=\"dataframe\">\n",
       "  <thead>\n",
       "    <tr style=\"text-align: right;\">\n",
       "      <th></th>\n",
       "      <th>user_id</th>\n",
       "      <th>course_id</th>\n",
       "      <th>rating</th>\n",
       "    </tr>\n",
       "  </thead>\n",
       "  <tbody>\n",
       "    <tr>\n",
       "      <th>0</th>\n",
       "      <td>13863</td>\n",
       "      <td>27</td>\n",
       "      <td>4.428571</td>\n",
       "    </tr>\n",
       "    <tr>\n",
       "      <th>1</th>\n",
       "      <td>5396</td>\n",
       "      <td>27</td>\n",
       "      <td>4.428571</td>\n",
       "    </tr>\n",
       "    <tr>\n",
       "      <th>2</th>\n",
       "      <td>29518</td>\n",
       "      <td>27</td>\n",
       "      <td>4.428571</td>\n",
       "    </tr>\n",
       "    <tr>\n",
       "      <th>3</th>\n",
       "      <td>3374</td>\n",
       "      <td>27</td>\n",
       "      <td>4.428571</td>\n",
       "    </tr>\n",
       "    <tr>\n",
       "      <th>4</th>\n",
       "      <td>8818</td>\n",
       "      <td>27</td>\n",
       "      <td>4.428571</td>\n",
       "    </tr>\n",
       "  </tbody>\n",
       "</table>\n",
       "</div>"
      ],
      "text/plain": [
       "   user_id  course_id    rating\n",
       "0    13863         27  4.428571\n",
       "1     5396         27  4.428571\n",
       "2    29518         27  4.428571\n",
       "3     3374         27  4.428571\n",
       "4     8818         27  4.428571"
      ]
     },
     "execution_count": 27,
     "metadata": {},
     "output_type": "execute_result"
    }
   ],
   "source": [
    "# Merge both DataFrames\n",
    "merged = courses_to_recommend.merge(avg_course_ratings) \n",
    "\n",
    "merged.head()"
   ]
  },
  {
   "cell_type": "code",
   "execution_count": 28,
   "id": "afecbfa2",
   "metadata": {},
   "outputs": [
    {
     "data": {
      "text/html": [
       "<div>\n",
       "<style scoped>\n",
       "    .dataframe tbody tr th:only-of-type {\n",
       "        vertical-align: middle;\n",
       "    }\n",
       "\n",
       "    .dataframe tbody tr th {\n",
       "        vertical-align: top;\n",
       "    }\n",
       "\n",
       "    .dataframe thead th {\n",
       "        text-align: right;\n",
       "    }\n",
       "</style>\n",
       "<table border=\"1\" class=\"dataframe\">\n",
       "  <thead>\n",
       "    <tr style=\"text-align: right;\">\n",
       "      <th></th>\n",
       "      <th>user_id</th>\n",
       "      <th>course_id</th>\n",
       "      <th>rating</th>\n",
       "    </tr>\n",
       "  </thead>\n",
       "  <tbody>\n",
       "    <tr>\n",
       "      <th>331</th>\n",
       "      <td>36032</td>\n",
       "      <td>23</td>\n",
       "      <td>4.8</td>\n",
       "    </tr>\n",
       "    <tr>\n",
       "      <th>346</th>\n",
       "      <td>600</td>\n",
       "      <td>23</td>\n",
       "      <td>4.8</td>\n",
       "    </tr>\n",
       "    <tr>\n",
       "      <th>1169</th>\n",
       "      <td>33243</td>\n",
       "      <td>46</td>\n",
       "      <td>4.8</td>\n",
       "    </tr>\n",
       "    <tr>\n",
       "      <th>1168</th>\n",
       "      <td>28999</td>\n",
       "      <td>46</td>\n",
       "      <td>4.8</td>\n",
       "    </tr>\n",
       "    <tr>\n",
       "      <th>1167</th>\n",
       "      <td>802</td>\n",
       "      <td>46</td>\n",
       "      <td>4.8</td>\n",
       "    </tr>\n",
       "  </tbody>\n",
       "</table>\n",
       "</div>"
      ],
      "text/plain": [
       "      user_id  course_id  rating\n",
       "331     36032         23     4.8\n",
       "346       600         23     4.8\n",
       "1169    33243         46     4.8\n",
       "1168    28999         46     4.8\n",
       "1167      802         46     4.8"
      ]
     },
     "execution_count": 28,
     "metadata": {},
     "output_type": "execute_result"
    }
   ],
   "source": [
    "merged.sort_values(\"rating\", ascending=False).head()"
   ]
  },
  {
   "cell_type": "code",
   "execution_count": 29,
   "id": "aea01ff8",
   "metadata": {},
   "outputs": [
    {
     "data": {
      "text/html": [
       "<div>\n",
       "<style scoped>\n",
       "    .dataframe tbody tr th:only-of-type {\n",
       "        vertical-align: middle;\n",
       "    }\n",
       "\n",
       "    .dataframe tbody tr th {\n",
       "        vertical-align: top;\n",
       "    }\n",
       "\n",
       "    .dataframe thead th {\n",
       "        text-align: right;\n",
       "    }\n",
       "</style>\n",
       "<table border=\"1\" class=\"dataframe\">\n",
       "  <thead>\n",
       "    <tr style=\"text-align: right;\">\n",
       "      <th></th>\n",
       "      <th>user_id</th>\n",
       "      <th>course_id</th>\n",
       "      <th>rating</th>\n",
       "    </tr>\n",
       "  </thead>\n",
       "  <tbody>\n",
       "  </tbody>\n",
       "</table>\n",
       "</div>"
      ],
      "text/plain": [
       "Empty DataFrame\n",
       "Columns: [user_id, course_id, rating]\n",
       "Index: []"
      ]
     },
     "execution_count": 29,
     "metadata": {},
     "output_type": "execute_result"
    }
   ],
   "source": [
    "merged[merged.user_id == 30251]"
   ]
  },
  {
   "cell_type": "code",
   "execution_count": 30,
   "id": "60120102",
   "metadata": {},
   "outputs": [
    {
     "data": {
      "text/html": [
       "<div>\n",
       "<style scoped>\n",
       "    .dataframe tbody tr th:only-of-type {\n",
       "        vertical-align: middle;\n",
       "    }\n",
       "\n",
       "    .dataframe tbody tr th {\n",
       "        vertical-align: top;\n",
       "    }\n",
       "\n",
       "    .dataframe thead th {\n",
       "        text-align: right;\n",
       "    }\n",
       "</style>\n",
       "<table border=\"1\" class=\"dataframe\">\n",
       "  <thead>\n",
       "    <tr style=\"text-align: right;\">\n",
       "      <th></th>\n",
       "      <th>user_id</th>\n",
       "      <th>course_id</th>\n",
       "      <th>rating</th>\n",
       "    </tr>\n",
       "  </thead>\n",
       "  <tbody>\n",
       "    <tr>\n",
       "      <th>1144</th>\n",
       "      <td>9</td>\n",
       "      <td>66</td>\n",
       "      <td>4.540984</td>\n",
       "    </tr>\n",
       "    <tr>\n",
       "      <th>669</th>\n",
       "      <td>25</td>\n",
       "      <td>31</td>\n",
       "      <td>4.610209</td>\n",
       "    </tr>\n",
       "    <tr>\n",
       "      <th>164</th>\n",
       "      <td>36</td>\n",
       "      <td>94</td>\n",
       "      <td>4.529412</td>\n",
       "    </tr>\n",
       "    <tr>\n",
       "      <th>737</th>\n",
       "      <td>69</td>\n",
       "      <td>59</td>\n",
       "      <td>4.535211</td>\n",
       "    </tr>\n",
       "    <tr>\n",
       "      <th>1794</th>\n",
       "      <td>100</td>\n",
       "      <td>28</td>\n",
       "      <td>4.578947</td>\n",
       "    </tr>\n",
       "  </tbody>\n",
       "</table>\n",
       "</div>"
      ],
      "text/plain": [
       "      user_id  course_id    rating\n",
       "1144        9         66  4.540984\n",
       "669        25         31  4.610209\n",
       "164        36         94  4.529412\n",
       "737        69         59  4.535211\n",
       "1794      100         28  4.578947"
      ]
     },
     "execution_count": 30,
     "metadata": {},
     "output_type": "execute_result"
    }
   ],
   "source": [
    "# Sort values by rating and group by user_id\n",
    "grouped = merged.sort_values(\"rating\", ascending=False).groupby(\"user_id\")\n",
    "\n",
    "\n",
    "# Produce the top 3 values and sort by user_id\n",
    "recommendations = grouped.head(3).sort_values(\"user_id\")\n",
    "\n",
    "recommendations.head()"
   ]
  },
  {
   "cell_type": "code",
   "execution_count": 31,
   "id": "5d977f01",
   "metadata": {},
   "outputs": [
    {
     "data": {
      "text/html": [
       "<div>\n",
       "<style scoped>\n",
       "    .dataframe tbody tr th:only-of-type {\n",
       "        vertical-align: middle;\n",
       "    }\n",
       "\n",
       "    .dataframe tbody tr th {\n",
       "        vertical-align: top;\n",
       "    }\n",
       "\n",
       "    .dataframe thead th {\n",
       "        text-align: right;\n",
       "    }\n",
       "</style>\n",
       "<table border=\"1\" class=\"dataframe\">\n",
       "  <thead>\n",
       "    <tr style=\"text-align: right;\">\n",
       "      <th></th>\n",
       "      <th>user_id</th>\n",
       "      <th>course_id</th>\n",
       "      <th>rating</th>\n",
       "    </tr>\n",
       "  </thead>\n",
       "  <tbody>\n",
       "  </tbody>\n",
       "</table>\n",
       "</div>"
      ],
      "text/plain": [
       "Empty DataFrame\n",
       "Columns: [user_id, course_id, rating]\n",
       "Index: []"
      ]
     },
     "execution_count": 31,
     "metadata": {},
     "output_type": "execute_result"
    }
   ],
   "source": [
    "recommendations[recommendations.user_id == 16456]"
   ]
  },
  {
   "cell_type": "code",
   "execution_count": 32,
   "id": "b2b62ea6",
   "metadata": {},
   "outputs": [],
   "source": [
    "recommendations = transform_recommendations(avg_course_ratings, courses_to_recommend)"
   ]
  },
  {
   "cell_type": "code",
   "execution_count": 33,
   "id": "d70feef5",
   "metadata": {},
   "outputs": [],
   "source": [
    "def load_to_dwh(recommendations, db_engine):\n",
    "    recommendations.to_sql(\"recommendations\", db_engine, if_exists=\"replace\")"
   ]
  },
  {
   "cell_type": "code",
   "execution_count": 34,
   "id": "a7132913",
   "metadata": {},
   "outputs": [],
   "source": [
    "load_to_dwh(recommendations, db_engine)"
   ]
  },
  {
   "cell_type": "code",
   "execution_count": 38,
   "id": "61580dbc",
   "metadata": {},
   "outputs": [],
   "source": [
    "def recommendations_for_user(user_id, programming_language, threshold,course_level ):\n",
    "    # Join with the courses table\n",
    "    query = \"\"\"\n",
    "    SELECT title, rating FROM recommendations\n",
    "    INNER JOIN courses ON courses.course_id = recommendations.course_id\n",
    "    WHERE (user_id=%(user_id)s AND programming_language=%(programming_language)s AND rating>%(threshold)s AND course_level<>%(course_level)s)\n",
    "    ORDER BY rating DESC\n",
    "    \"\"\"\n",
    "    # Add the threshold parameter\n",
    "    predictions_df = pd.read_sql(query, db_engine_1, params = {\"user_id\": user_id, \n",
    "                                                           \"threshold\": threshold,\n",
    "                                                            \"programming_language\":programming_language,\n",
    "                                                              \"course_level\":course_level})\n",
    "    return predictions_df.title.values"
   ]
  },
  {
   "cell_type": "markdown",
   "id": "abdd97e0",
   "metadata": {},
   "source": [
    "## ETL: Combine all the operations"
   ]
  },
  {
   "cell_type": "code",
   "execution_count": 36,
   "id": "14974d9d",
   "metadata": {},
   "outputs": [],
   "source": [
    "def etl(db_engine):\n",
    "    # Extract the data\n",
    "    courses = extract_course_data(db_engine)\n",
    "    rating = extract_rating_data(db_engine)\n",
    "    \n",
    "    # Clean up courses data\n",
    "    courses = transform_fill_programming_language(courses)\n",
    "    \n",
    "    # Get the average course ratings\n",
    "    avg_course_rating = transform_avg_rating(rating)\n",
    "    \n",
    "    # Get eligible user and course id pairs\n",
    "    courses_to_recommend = pd.read_csv('courses_to_recommend_small.csv')\n",
    "    \n",
    "    # Calculate the recommendations\n",
    "    recommendations = transform_recommendations(\n",
    "    avg_course_rating,\n",
    "    courses_to_recommend,\n",
    "    )\n",
    "    \n",
    "    # Load the recommendations into the database\n",
    "    load_to_dwh(recommendations, db_engine)"
   ]
  },
  {
   "cell_type": "code",
   "execution_count": 39,
   "id": "62945e54",
   "metadata": {},
   "outputs": [],
   "source": [
    "etl(db_engine)"
   ]
  },
  {
   "cell_type": "code",
   "execution_count": null,
   "id": "249fe6d5",
   "metadata": {},
   "outputs": [],
   "source": []
  }
 ],
 "metadata": {
  "kernelspec": {
   "display_name": "Python 3 (ipykernel)",
   "language": "python",
   "name": "python3"
  },
  "language_info": {
   "codemirror_mode": {
    "name": "ipython",
    "version": 3
   },
   "file_extension": ".py",
   "mimetype": "text/x-python",
   "name": "python",
   "nbconvert_exporter": "python",
   "pygments_lexer": "ipython3",
   "version": "3.11.4"
  }
 },
 "nbformat": 4,
 "nbformat_minor": 5
}
